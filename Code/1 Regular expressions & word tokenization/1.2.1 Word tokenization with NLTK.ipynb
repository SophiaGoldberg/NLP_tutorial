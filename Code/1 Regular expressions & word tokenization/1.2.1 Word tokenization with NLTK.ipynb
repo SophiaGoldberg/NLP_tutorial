{
 "cells": [
  {
   "cell_type": "code",
   "execution_count": 1,
   "metadata": {},
   "outputs": [
    {
     "name": "stdout",
     "output_type": "stream",
     "text": [
      "Requirement already satisfied: nltk in /Users/sophia/anaconda3/lib/python3.6/site-packages\r\n",
      "Requirement already satisfied: six in /Users/sophia/anaconda3/lib/python3.6/site-packages (from nltk)\r\n"
     ]
    }
   ],
   "source": [
    "!pip install nltk"
   ]
  },
  {
   "cell_type": "code",
   "execution_count": 7,
   "metadata": {
    "collapsed": true
   },
   "outputs": [],
   "source": [
    "import nltk"
   ]
  },
  {
   "cell_type": "code",
   "execution_count": 3,
   "metadata": {},
   "outputs": [
    {
     "name": "stdout",
     "output_type": "stream",
     "text": [
      "showing info https://raw.githubusercontent.com/nltk/nltk_data/gh-pages/index.xml\n"
     ]
    },
    {
     "data": {
      "text/plain": [
       "True"
      ]
     },
     "execution_count": 3,
     "metadata": {},
     "output_type": "execute_result"
    }
   ],
   "source": [
    "nltk.download()"
   ]
  },
  {
   "cell_type": "code",
   "execution_count": 4,
   "metadata": {
    "collapsed": true
   },
   "outputs": [],
   "source": [
    "# Import necessary modules\n",
    "import re\n",
    "from nltk.tokenize import word_tokenize, sent_tokenize"
   ]
  },
  {
   "cell_type": "code",
   "execution_count": 5,
   "metadata": {
    "collapsed": true
   },
   "outputs": [],
   "source": [
    "#first scene of monty python's holy grale\n",
    "scene_one=\"SCENE 1: [wind] [clop clop clop] \\nKING ARTHUR: Whoa there!  [clop clop clop] \\nSOLDIER #1: Halt!  Who goes there?\\nARTHUR: It is I, Arthur, son of Uther Pendragon, from the castle of Camelot.  King of the Britons, defeator of the Saxons, sovereign of all England!\\nSOLDIER #1: Pull the other one!\\nARTHUR: I am, ...  and this is my trusty servant Patsy.  We have ridden the length and breadth of the land in search of knights who will join me in my court at Camelot.  I must speak with your lord and master.\\nSOLDIER #1: What?  Ridden on a horse?\\nARTHUR: Yes!\\nSOLDIER #1: You're using coconuts!\\nARTHUR: What?\\nSOLDIER #1: You've got two empty halves of coconut and you're bangin' 'em together.\\nARTHUR: So?  We have ridden since the snows of winter covered this land, through the kingdom of Mercea, through--\\nSOLDIER #1: Where'd you get the coconuts?\\nARTHUR: We found them.\\nSOLDIER #1: Found them?  In Mercea?  The coconut's tropical!\\nARTHUR: What do you mean?\\nSOLDIER #1: Well, this is a temperate zone.\\nARTHUR: The swallow may fly south with the sun or the house martin or the plover may seek warmer climes in winter, yet these are not strangers to our land?\\nSOLDIER #1: Are you suggesting coconuts migrate?\\nARTHUR: Not at all.  They could be carried.\\nSOLDIER #1: What?  A swallow carrying a coconut?\\nARTHUR: It could grip it by the husk!\\nSOLDIER #1: It's not a question of where he grips it!  It's a simple question of weight ratios!  A five ounce bird could not carry a one pound coconut.\\nARTHUR: Well, it doesn't matter.  Will you go and tell your master that Arthur from the Court of Camelot is here.\\nSOLDIER #1: Listen.  In order to maintain air-speed velocity, a swallow needs to beat its wings forty-three times every second, right?\\nARTHUR: Please!\\nSOLDIER #1: Am I right?\\nARTHUR: I'm not interested!\\nSOLDIER #2: It could be carried by an African swallow!\\nSOLDIER #1: Oh, yeah, an African swallow maybe, but not a European swallow.  That's my point.\\nSOLDIER #2: Oh, yeah, I agree with that.\\nARTHUR: Will you ask your master if he wants to join my court at Camelot?!\\nSOLDIER #1: But then of course a-- African swallows are non-migratory.\\nSOLDIER #2: Oh, yeah...\\nSOLDIER #1: So they couldn't bring a coconut back anyway...  [clop clop clop] \\nSOLDIER #2: Wait a minute!  Supposing two swallows carried it together?\\nSOLDIER #1: No, they'd have to have it on a line.\\nSOLDIER #2: Well, simple!  They'd just use a strand of creeper!\\nSOLDIER #1: What, held under the dorsal guiding feathers?\\nSOLDIER #2: Well, why not?\\n\""
   ]
  },
  {
   "cell_type": "code",
   "execution_count": 6,
   "metadata": {},
   "outputs": [
    {
     "name": "stdout",
     "output_type": "stream",
     "text": [
      "{'question', 'SOLDIER', 'in', '.', 'on', 'Halt', 'ratios', 'two', 'have', 'plover', 'he', 'swallows', 'knights', 'Supposing', 'Pendragon', 'bangin', 'carry', 'go', 'Not', 'Who', 'Yes', 'snows', 'swallow', 'You', 'through', 'Will', 'then', 'held', 'since', 'goes', 'interested', 'ARTHUR', 'tropical', 'together', 'coconuts', 'court', 'will', 'They', 'it', 'wings', 'husk', 'use', 'pound', 'may', 'Camelot', '[', 'wants', 'back', 'one', 'Well', 'Uther', 'matter', 'I', 'In', 'Arthur', 'Britons', 'seek', 'zone', 'migrate', 'That', 'a', 'Oh', 'breadth', 'martin', 'to', 'that', 'anyway', 'this', 'maintain', 'mean', 'course', 'yeah', 'Where', 'But', 'are', 'It', 'So', 'length', 'Wait', 'house', \"'ve\", 'simple', 'air-speed', 'sovereign', 'south', 'speak', \"'\", 'am', 'Please', 'covered', 'needs', 'is', 'Patsy', 'strangers', 'servant', 'horse', 'Are', 'Mercea', 'grip', 'empty', 'SCENE', '1', 'Ridden', 'weight', 'does', 'feathers', 'order', 'line', 'fly', 'right', 'all', '...', 'ridden', ':', 'could', 'your', 'African', 'creeper', '!', 'using', 'ounce', 'Saxons', 'from', 'why', 'strand', 'if', 'winter', 'second', 'A', 'sun', 'get', 'temperate', 'not', 'velocity', \"'m\", 'non-migratory', 'King', 'KING', 'you', 'or', 'Whoa', 'warmer', 'maybe', 'carrying', 'bring', 'We', 'where', 'son', 'grips', 'there', 'yet', 'every', 'other', 'found', 'suggesting', 'Am', 'wind', 'join', 'with', ',', 'lord', 'Listen', 'me', 'bird', 'forty-three', ']', 'coconut', 'minute', 'and', 'by', 'an', 'The', 'at', 'must', 'England', 'castle', '--', 'be', 'my', \"'s\", 'Pull', 'halves', 'do', 'ask', 'Found', 'defeator', 'tell', 'beat', 'times', 'European', 'its', 'they', 'guiding', 'who', 'carried', 'but', 'under', 'the', \"'re\", 'five', 'Court', 'just', '2', 'kingdom', 'our', '?', 'search', 'of', 'What', 'master', '#', 'land', 'trusty', 'got', 'here', 'dorsal', \"'d\", 'clop', 'climes', \"n't\", 'point', 'agree', 'these', \"'em\", 'No', 'them'}\n"
     ]
    }
   ],
   "source": [
    "# Split scene_one into sentences: sentences\n",
    "sentences = sent_tokenize(scene_one)\n",
    "\n",
    "# Use word_tokenize to tokenize the fourth sentence: tokenized_sent\n",
    "tokenized_sent = word_tokenize(sentences[3])\n",
    "\n",
    "# Make a set of unique tokens in the entire scene: unique_tokens\n",
    "unique_tokens = set(word_tokenize(scene_one))\n",
    "\n",
    "# Print the unique tokens result\n",
    "print(unique_tokens)"
   ]
  },
  {
   "cell_type": "code",
   "execution_count": null,
   "metadata": {
    "collapsed": true
   },
   "outputs": [],
   "source": []
  },
  {
   "cell_type": "code",
   "execution_count": null,
   "metadata": {
    "collapsed": true
   },
   "outputs": [],
   "source": []
  },
  {
   "cell_type": "code",
   "execution_count": null,
   "metadata": {
    "collapsed": true
   },
   "outputs": [],
   "source": []
  }
 ],
 "metadata": {
  "kernelspec": {
   "display_name": "Python 3",
   "language": "python",
   "name": "python3"
  },
  "language_info": {
   "codemirror_mode": {
    "name": "ipython",
    "version": 3
   },
   "file_extension": ".py",
   "mimetype": "text/x-python",
   "name": "python",
   "nbconvert_exporter": "python",
   "pygments_lexer": "ipython3",
   "version": "3.6.1"
  }
 },
 "nbformat": 4,
 "nbformat_minor": 2
}
